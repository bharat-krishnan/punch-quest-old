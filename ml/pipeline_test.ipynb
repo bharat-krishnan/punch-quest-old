{
 "cells": [
  {
   "cell_type": "code",
   "execution_count": 2,
   "metadata": {},
   "outputs": [],
   "source": [
    "import numpy as np\n",
    "import pandas as pd\n",
    "import os"
   ]
  },
  {
   "cell_type": "code",
   "execution_count": 3,
   "metadata": {},
   "outputs": [],
   "source": [
    "#path to the data\n",
    "DATA_PATH = os.path.join('./training_data') \n",
    "\n",
    "#labels for the data\n",
    "actions = np.array(['jab', 'cross', 'guard'])\n",
    "\n",
    "# Thirty videos worth of data\n",
    "no_sequences = 100\n",
    "\n",
    "# Videos are going to be 30 frames in length\n",
    "sequence_length = 25\n",
    "\n",
    "label_map = {label:num for num, label in enumerate(actions)}\n",
    "label_map\n",
    "\n",
    "sequences, labels = [], []\n",
    "for action in actions:\n",
    "    for sequence in range(1, no_sequences+1):\n",
    "        window = []\n",
    "        for frame_num in range(1, sequence_length+1):\n",
    "            res = np.load(os.path.join(DATA_PATH, action, str(sequence), \"{}.npy\".format(frame_num)))\n",
    "            window.append(res)\n",
    "        sequences.append(window)\n",
    "        labels.append(label_map[action])\n",
    "\n"
   ]
  },
  {
   "cell_type": "code",
   "execution_count": 13,
   "metadata": {},
   "outputs": [
    {
     "data": {
      "text/plain": [
       "((300, 25), 300)"
      ]
     },
     "execution_count": 13,
     "metadata": {},
     "output_type": "execute_result"
    }
   ],
   "source": [
    "matrix_dim = len(sequences), len(sequences[0])\n",
    "labels_dim = len(labels)\n",
    "matrix_dim, labels_dim"
   ]
  },
  {
   "cell_type": "code",
   "execution_count": 20,
   "metadata": {},
   "outputs": [
    {
     "data": {
      "text/plain": [
       "(132,)"
      ]
     },
     "execution_count": 20,
     "metadata": {},
     "output_type": "execute_result"
    }
   ],
   "source": [
    "sequences[0][0].shape"
   ]
  },
  {
   "cell_type": "code",
   "execution_count": 21,
   "metadata": {},
   "outputs": [],
   "source": [
    "point_list = [\"nose\", \"left_eye_inner\", \"left_eye\", \"left_eye_outer\", \"right_eye_inner\", \"right_eye\",\n",
    " \"right_eye_outer\", \"left_ear\", \"right_ear\", \"mouth_left\", \"mouth_right\", \"left_shoulder\", \"right_shoulder\",\n",
    " \"left_elbow\", \"right_elbow\", \"left_wrist\", \"right_wrist\", \"left_pinky\", \"right_pinky\", \"right_index\", \"left_index\",\n",
    " \"left_thumb\", \"right_thumb\", \"left_hip\", \"right_hip\", \"left_knee\", \"right_knee\",\"left_ankle\", \"right_ankle\",\n",
    " \"left_heel\", \"right_heel\", \"left_foot_index\", \"right_foot_index\"\n",
    "]"
   ]
  },
  {
   "cell_type": "code",
   "execution_count": 22,
   "metadata": {},
   "outputs": [],
   "source": [
    "point_map = {point: num for num, point in enumerate(point_list)}"
   ]
  },
  {
   "cell_type": "code",
   "execution_count": 30,
   "metadata": {},
   "outputs": [
    {
     "data": {
      "text/plain": [
       "True"
      ]
     },
     "execution_count": 30,
     "metadata": {},
     "output_type": "execute_result"
    }
   ],
   "source": [
    "point_map.get('right_wrist') == point_list.index('right_wrist')"
   ]
  },
  {
   "cell_type": "code",
   "execution_count": null,
   "metadata": {},
   "outputs": [],
   "source": []
  }
 ],
 "metadata": {
  "kernelspec": {
   "display_name": "Python 3.9.7 ('base')",
   "language": "python",
   "name": "python3"
  },
  "language_info": {
   "codemirror_mode": {
    "name": "ipython",
    "version": 3
   },
   "file_extension": ".py",
   "mimetype": "text/x-python",
   "name": "python",
   "nbconvert_exporter": "python",
   "pygments_lexer": "ipython3",
   "version": "3.9.7"
  },
  "orig_nbformat": 4,
  "vscode": {
   "interpreter": {
    "hash": "ed3d1c512e248e4e086c6f60dd986409afcd551fa7d77d650bd742b7966cb081"
   }
  }
 },
 "nbformat": 4,
 "nbformat_minor": 2
}
